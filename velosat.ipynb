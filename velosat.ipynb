{
  "nbformat": 4,
  "nbformat_minor": 0,
  "metadata": {
    "colab": {
      "provenance": [],
      "authorship_tag": "ABX9TyMyErFAtqnMdRuYXeEZ39t7",
      "include_colab_link": true
    },
    "kernelspec": {
      "name": "python3",
      "display_name": "Python 3"
    },
    "language_info": {
      "name": "python"
    }
  },
  "cells": [
    {
      "cell_type": "markdown",
      "metadata": {
        "id": "view-in-github",
        "colab_type": "text"
      },
      "source": [
        "<a href=\"https://colab.research.google.com/github/learnig-scientist/mecwave/blob/main/velosat.ipynb\" target=\"_parent\"><img src=\"https://colab.research.google.com/assets/colab-badge.svg\" alt=\"Open In Colab\"/></a>"
      ]
    },
    {
      "cell_type": "code",
      "execution_count": 5,
      "metadata": {
        "colab": {
          "base_uri": "https://localhost:8080/"
        },
        "id": "b_ymQnDHPJIs",
        "outputId": "9a7062a5-6fe2-43ea-f3e7-aa1b395da4eb"
      },
      "outputs": [
        {
          "output_type": "stream",
          "name": "stdout",
          "text": [
            "Raio daórbita:4.09e+12 m\n",
            "Velocidade do satélite: 9.87e+00 m/s\n"
          ]
        }
      ],
      "source": [
        "import numpy as np\n",
        "import math\n",
        "import matplotlib.pyplot as plt\n",
        "#Constantes\n",
        "G= 6.67e-11 #Constantegravitacional\n",
        "M= 5.98e24 #Massa daTerra\n",
        "T= 24* 60*60 #Período derotaçãodaTerra (s)\n",
        "pi= 3.14\n",
        "#Raio daórbitacirculargeoestacionária\n",
        "r= ((G* M)/(4 *(pi**2)))**(1/3)*((T)/(2 *pi))**2\n",
        "print(f\"Raio daórbita:{r:.2e} m\")\n",
        "# Velocidade do satélite na órbita circular geoestacionária\n",
        "v = math.sqrt((G * M)/r)\n",
        "print(f\"Velocidade do satélite: {v:.2e} m/s\")"
      ]
    }
  ]
}