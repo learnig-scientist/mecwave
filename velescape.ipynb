{
  "nbformat": 4,
  "nbformat_minor": 0,
  "metadata": {
    "colab": {
      "provenance": [],
      "authorship_tag": "ABX9TyOCQlK6AagbkYnQxTZoQ9SX",
      "include_colab_link": true
    },
    "kernelspec": {
      "name": "python3",
      "display_name": "Python 3"
    },
    "language_info": {
      "name": "python"
    }
  },
  "cells": [
    {
      "cell_type": "markdown",
      "metadata": {
        "id": "view-in-github",
        "colab_type": "text"
      },
      "source": [
        "<a href=\"https://colab.research.google.com/github/learnig-scientist/mecwave/blob/main/velescape.ipynb\" target=\"_parent\"><img src=\"https://colab.research.google.com/assets/colab-badge.svg\" alt=\"Open In Colab\"/></a>"
      ]
    },
    {
      "cell_type": "code",
      "execution_count": 2,
      "metadata": {
        "colab": {
          "base_uri": "https://localhost:8080/"
        },
        "id": "hvhnkU0fM825",
        "outputId": "c2339a19-8a7e-4340-9537-938ce782cdcc"
      },
      "outputs": [
        {
          "output_type": "stream",
          "name": "stdout",
          "text": [
            "Velocidade de escape da Terra: 11185.98 m/s\n",
            "Acréscimo de velocidade necessário: 3276.30 m/s\n"
          ]
        }
      ],
      "source": [
        "import math\n",
        "# Parâmetros do planeta\n",
        "R = 6.371e6 # raio da Terra (m)\n",
        "M = 5.972e24 # massa da Terra (kg)\n",
        "G = 6.6743e-11 # constante gravitacional (m^3 kg^-1 s^-2)\n",
        "# Parte (a)- velocidade de escape\n",
        "v_esc = math.sqrt(2 * G * M / R)\n",
        "print(f\"Velocidade de escape da Terra: {v_esc:.2f} m/s\")\n",
        "# Parte (b)- acréscimo de velocidade necessário para escapar\n",
        "r = R # raio da órbita (supondo órbita circular)\n",
        "v_orb = math.sqrt(G * M / r)\n",
        "delta_v = v_esc- v_orb\n",
        "print(f\"Acréscimo de velocidade necessário: {delta_v:.2f} m/s\")"
      ]
    }
  ]
}